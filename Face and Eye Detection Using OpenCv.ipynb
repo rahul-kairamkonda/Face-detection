{
 "cells": [
  {
   "cell_type": "code",
   "execution_count": 3,
   "metadata": {},
   "outputs": [],
   "source": [
    "#Face detection\n",
    "import numpy as np\n",
    "import cv2\n",
    "face_cascade=cv2.CascadeClassifier('haarcascade_frontalface_default.xml')\n",
    "cap=cv2.VideoCapture(0)\n",
    "while cap.isOpened():\n",
    "    _,frame=cap.read()\n",
    "    gray=cv2.cvtColor(frame,cv2.COLOR_BGR2GRAY)\n",
    "    faces=face_cascade.detectMultiScale(gray,1.1,4)\n",
    "    for (x,y,w,h) in faces:\n",
    "        cv2.rectangle(frame,(x,y),(x+w,y+h),(0,255,0),3)\n",
    "    cv2.imshow('Frame',frame)\n",
    "    if cv2.waitKey(1)==27:\n",
    "        break\n",
    "cap.release()\n",
    "cv2.destroyAllWindows()\n",
    "    \n",
    "    "
   ]
  },
  {
   "cell_type": "raw",
   "metadata": {},
   "source": []
  },
  {
   "cell_type": "code",
   "execution_count": 4,
   "metadata": {},
   "outputs": [],
   "source": [
    "import cv2\n",
    "\n",
    "def draw_found_faces(detected, image, color: tuple):\n",
    "    for (x, y, width, height) in detected:\n",
    "        cv2.rectangle(\n",
    "            image,\n",
    "            (x, y),\n",
    "            (x + width, y + height),\n",
    "            color,\n",
    "            thickness=2\n",
    "        )\n",
    "\n",
    "# Capturing the Video Stream\n",
    "video_capture = cv2.VideoCapture(0)\n",
    "\n",
    "# Creating the cascade objects\n",
    "face_cascade = cv2.CascadeClassifier(\"haarcascade_frontalface_default.xml\")\n",
    "eye_cascade = cv2.CascadeClassifier(\"haarcascade_eye_tree_eyeglasses.xml\")\n",
    "\n",
    "while True:\n",
    "    # Get individual frame\n",
    "    _, frame = video_capture.read()\n",
    "    # Covert the frame to grayscale\n",
    "    grayscale_image = cv2.cvtColor(frame, cv2.COLOR_BGR2GRAY)\n",
    "    \n",
    "\t# Detect all the faces in that frame\n",
    "    detected_faces = face_cascade.detectMultiScale(image=grayscale_image, scaleFactor=1.3, minNeighbors=4)\n",
    "    detected_eyes = eye_cascade.detectMultiScale(image=grayscale_image, scaleFactor=1.3, minNeighbors=4)\n",
    "    draw_found_faces(detected_faces, frame, (0, 0, 255))\n",
    "    draw_found_faces(detected_eyes, frame, (0, 255, 0))\n",
    "\n",
    "    # Display the updated frame as a video stream\n",
    "    cv2.imshow('Webcam Face Detection', frame)\n",
    "\n",
    "    # Press the ESC key to exit the loop\n",
    "    # 27 is the ascii value for the ESC key\n",
    "    if cv2.waitKey(1) == 27:\n",
    "        break\n",
    "\n",
    "# Releasing the webcam resource\n",
    "video_capture.release()\n",
    "\n",
    "# Destroy the window that was showing the video stream\n",
    "cv2.destroyAllWindows()"
   ]
  },
  {
   "cell_type": "code",
   "execution_count": null,
   "metadata": {},
   "outputs": [],
   "source": []
  }
 ],
 "metadata": {
  "kernelspec": {
   "display_name": "Python 3",
   "language": "python",
   "name": "python3"
  },
  "language_info": {
   "codemirror_mode": {
    "name": "ipython",
    "version": 3
   },
   "file_extension": ".py",
   "mimetype": "text/x-python",
   "name": "python",
   "nbconvert_exporter": "python",
   "pygments_lexer": "ipython3",
   "version": "3.7.4"
  }
 },
 "nbformat": 4,
 "nbformat_minor": 2
}
