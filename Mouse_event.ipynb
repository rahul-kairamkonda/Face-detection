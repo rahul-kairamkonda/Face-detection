{
 "cells": [
  {
   "cell_type": "code",
   "execution_count": 13,
   "metadata": {},
   "outputs": [
    {
     "name": "stdout",
     "output_type": "stream",
     "text": [
      "304 , 222\n"
     ]
    }
   ],
   "source": [
    "import numpy as np\n",
    "import cv2\n",
    "def click_event(event,x,y,flags,param):\n",
    "    if event==cv2.EVENT_LBUTTONDOWN:\n",
    "        print(x,',',y)\n",
    "        font=cv2.FONT_HERSHEY_SIMPLEX\n",
    "        strxt=str(x)+','+str(y)\n",
    "        cv2.putText(img,strxt,(x,y),font,.5,(255,255,0),1)\n",
    "        cv2.imshow('image',img)\n",
    "    if event==cv2.EVENT_RBUTTONDOWN:\n",
    "        blue=img[y,x,0]\n",
    "        green=img[y,x,1]\n",
    "        red=img[y,x,2]\n",
    "        font=cv2.FONT_HERSHEY_SIMPLEX\n",
    "        strBGR=str(blue)+','+str(green)+','+str(red)\n",
    "        cv2.putText(img,strBGR,(x,y),font,.5,(0,255,0),1)\n",
    "        cv2.imshow('image',img)\n",
    "img=cv2.imread('lena.jpg',-1)\n",
    "cv2.imshow('image',img)\n",
    "cv2.setMouseCallback('image',click_event)\n",
    "cv2.waitKey(0)\n",
    "cv2.destroyAllWindows()\n",
    "    "
   ]
  },
  {
   "cell_type": "code",
   "execution_count": 29,
   "metadata": {},
   "outputs": [],
   "source": [
    "import numpy as np\n",
    "import cv2\n",
    "def click_event(event,x,y,flags,param):\n",
    "    if event==cv2.EVENT_LBUTTONDOWN:\n",
    "        cv2.circle(img,(x,y),3,(0,0,255),-1)\n",
    "        points.append((x,y))\n",
    "        if len(points)>=2:\n",
    "            cv2.line(img,points[-1],points[-2],(255,0,0),4)\n",
    "            cv2.imshow('image',img)\n",
    "       \n",
    "img=np.zeros((512,512,3),np.uint8)\n",
    "points=[]\n",
    "cv2.imshow('image',img)\n",
    "cv2.setMouseCallback('image',click_event)\n",
    "cv2.waitKey(0)\n",
    "cv2.destroyAllWindows()\n",
    "    "
   ]
  },
  {
   "cell_type": "code",
   "execution_count": 30,
   "metadata": {},
   "outputs": [],
   "source": [
    "import numpy as np\n",
    "import cv2\n",
    "def click_event(event,x,y,flags,param):\n",
    "    if event==cv2.EVENT_LBUTTONDOWN:\n",
    "        blue=img[x,y,0]\n",
    "        green=img[x,y,1]\n",
    "        red=img[x,y,2]\n",
    "        cv2.circle(img,(x,y),3,(0,0,255),-1)\n",
    "        mycolorImage=np.zeros([512,512,3],np.uint8)\n",
    "        mycolorImage[ : ]=[blue,green,red]\n",
    "        cv2.imshow('color',mycolorImage)\n",
    "        \n",
    "       \n",
    "#img=np.zeros([512,512,3],np.uint8)\n",
    "img=cv2.imread('lena.jpg')\n",
    "points=[]\n",
    "cv2.imshow('image',img)\n",
    "cv2.setMouseCallback('image',click_event)\n",
    "cv2.waitKey(0)\n",
    "cv2.destroyAllWindows()\n",
    "    "
   ]
  },
  {
   "cell_type": "code",
   "execution_count": null,
   "metadata": {},
   "outputs": [],
   "source": []
  }
 ],
 "metadata": {
  "kernelspec": {
   "display_name": "Python 3",
   "language": "python",
   "name": "python3"
  },
  "language_info": {
   "codemirror_mode": {
    "name": "ipython",
    "version": 3
   },
   "file_extension": ".py",
   "mimetype": "text/x-python",
   "name": "python",
   "nbconvert_exporter": "python",
   "pygments_lexer": "ipython3",
   "version": "3.7.4"
  }
 },
 "nbformat": 4,
 "nbformat_minor": 2
}
